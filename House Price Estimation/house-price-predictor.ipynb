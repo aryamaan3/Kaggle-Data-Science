{
 "cells": [
  {
   "cell_type": "code",
   "execution_count": 1,
   "metadata": {
    "execution": {
     "iopub.execute_input": "2021-03-04T00:29:32.261259Z",
     "iopub.status.busy": "2021-03-04T00:29:32.260504Z",
     "iopub.status.idle": "2021-03-04T00:29:33.868418Z",
     "shell.execute_reply": "2021-03-04T00:29:33.867491Z"
    },
    "papermill": {
     "duration": 1.631006,
     "end_time": "2021-03-04T00:29:33.868642",
     "exception": false,
     "start_time": "2021-03-04T00:29:32.237636",
     "status": "completed"
    },
    "tags": []
   },
   "outputs": [],
   "source": [
    "import pandas as pd\n",
    "from sklearn.model_selection import train_test_split\n",
    "\n",
    "# lit le fichier\n",
    "X = pd.read_csv('../input/train.csv', index_col='Id')\n",
    "X_test_full = pd.read_csv('../input/test.csv', index_col='Id')\n",
    "\n",
    "# Data Cleaning\n",
    "X.dropna(axis=0, subset=['SalePrice'], inplace=True)\n",
    "y = X.SalePrice              \n",
    "X.drop(['SalePrice'], axis=1, inplace=True)\n",
    "\n",
    "# on separe les données validation et test\n",
    "X_train_full, X_valid_full, y_train, y_valid = train_test_split(X, y, train_size=0.8, test_size=0.2,\n",
    "                                                                random_state=0)\n",
    "\n",
    "#colonnes ayant une cardinalité faible pour la simplicité\n",
    "low_cardinality_cols = [cname for cname in X_train_full.columns if X_train_full[cname].nunique() < 10 and \n",
    "                        X_train_full[cname].dtype == \"object\"]\n",
    "\n",
    "# colonnes d'entiers\n",
    "numeric_cols = [cname for cname in X_train_full.columns if X_train_full[cname].dtype in ['int64', 'float64']]\n",
    "\n",
    "# on garde seulement ces colonnes\n",
    "my_cols = low_cardinality_cols + numeric_cols\n",
    "X_train = X_train_full[my_cols].copy()\n",
    "X_valid = X_valid_full[my_cols].copy()\n",
    "X_test = X_test_full[my_cols].copy()\n",
    "\n",
    "# on utilise one hot encode\n",
    "X_train = pd.get_dummies(X_train)\n",
    "X_valid = pd.get_dummies(X_valid)\n",
    "X_test = pd.get_dummies(X_test)\n",
    "X_train, X_valid = X_train.align(X_valid, join='left', axis=1)\n",
    "X_train, X_test = X_train.align(X_test, join='left', axis=1)"
   ]
  },
  {
   "cell_type": "markdown",
   "metadata": {
    "papermill": {
     "duration": 0.0094,
     "end_time": "2021-03-04T00:29:33.888365",
     "exception": false,
     "start_time": "2021-03-04T00:29:33.878965",
     "status": "completed"
    },
    "tags": []
   },
   "source": [
    "Essayons **trois** differents maniere de booster le modele "
   ]
  },
  {
   "cell_type": "markdown",
   "metadata": {
    "papermill": {
     "duration": 0.009154,
     "end_time": "2021-03-04T00:29:33.908183",
     "exception": false,
     "start_time": "2021-03-04T00:29:33.899029",
     "status": "completed"
    },
    "tags": []
   },
   "source": [
    "**Premier essai**\n",
    "* Utilisons xgboost sans regler des parametres"
   ]
  },
  {
   "cell_type": "code",
   "execution_count": 2,
   "metadata": {
    "execution": {
     "iopub.execute_input": "2021-03-04T00:29:33.933248Z",
     "iopub.status.busy": "2021-03-04T00:29:33.932398Z",
     "iopub.status.idle": "2021-03-04T00:29:35.034175Z",
     "shell.execute_reply": "2021-03-04T00:29:35.034659Z"
    },
    "papermill": {
     "duration": 1.117184,
     "end_time": "2021-03-04T00:29:35.034865",
     "exception": false,
     "start_time": "2021-03-04T00:29:33.917681",
     "status": "completed"
    },
    "tags": []
   },
   "outputs": [
    {
     "data": {
      "text/plain": [
       "XGBRegressor(base_score=0.5, booster='gbtree', colsample_bylevel=1,\n",
       "             colsample_bynode=1, colsample_bytree=1, gamma=0, gpu_id=-1,\n",
       "             importance_type='gain', interaction_constraints='',\n",
       "             learning_rate=0.300000012, max_delta_step=0, max_depth=6,\n",
       "             min_child_weight=1, missing=nan, monotone_constraints='()',\n",
       "             n_estimators=100, n_jobs=4, num_parallel_tree=1, random_state=0,\n",
       "             reg_alpha=0, reg_lambda=1, scale_pos_weight=1, subsample=1,\n",
       "             tree_method='exact', validate_parameters=1, verbosity=None)"
      ]
     },
     "execution_count": 2,
     "metadata": {},
     "output_type": "execute_result"
    }
   ],
   "source": [
    "from xgboost import XGBRegressor\n",
    "my_model_1 = XGBRegressor()\n",
    "my_model_1.fit(X_train, y_train)"
   ]
  },
  {
   "cell_type": "code",
   "execution_count": 3,
   "metadata": {
    "execution": {
     "iopub.execute_input": "2021-03-04T00:29:35.072371Z",
     "iopub.status.busy": "2021-03-04T00:29:35.071508Z",
     "iopub.status.idle": "2021-03-04T00:29:35.075355Z",
     "shell.execute_reply": "2021-03-04T00:29:35.075905Z"
    },
    "papermill": {
     "duration": 0.030923,
     "end_time": "2021-03-04T00:29:35.076123",
     "exception": false,
     "start_time": "2021-03-04T00:29:35.045200",
     "status": "completed"
    },
    "tags": []
   },
   "outputs": [],
   "source": [
    "from sklearn.metrics import mean_absolute_error\n",
    "predictions_1 = my_model_1.predict(X_valid)"
   ]
  },
  {
   "cell_type": "code",
   "execution_count": 4,
   "metadata": {
    "execution": {
     "iopub.execute_input": "2021-03-04T00:29:35.105288Z",
     "iopub.status.busy": "2021-03-04T00:29:35.104588Z",
     "iopub.status.idle": "2021-03-04T00:29:35.108111Z",
     "shell.execute_reply": "2021-03-04T00:29:35.107438Z"
    },
    "papermill": {
     "duration": 0.019913,
     "end_time": "2021-03-04T00:29:35.108508",
     "exception": false,
     "start_time": "2021-03-04T00:29:35.088595",
     "status": "completed"
    },
    "tags": []
   },
   "outputs": [
    {
     "name": "stdout",
     "output_type": "stream",
     "text": [
      "Mean Absolute Error: 17662.736729452055\n"
     ]
    }
   ],
   "source": [
    "mae_1 = mean_absolute_error(predictions_1, y_valid)\n",
    "print(\"Mean Absolute Error:\" , mae_1)"
   ]
  },
  {
   "cell_type": "markdown",
   "metadata": {
    "papermill": {
     "duration": 0.010451,
     "end_time": "2021-03-04T00:29:35.129772",
     "exception": false,
     "start_time": "2021-03-04T00:29:35.119321",
     "status": "completed"
    },
    "tags": []
   },
   "source": [
    "le resultat n'est pas aussi bas que desiré"
   ]
  },
  {
   "cell_type": "markdown",
   "metadata": {
    "papermill": {
     "duration": 0.010359,
     "end_time": "2021-03-04T00:29:35.150790",
     "exception": false,
     "start_time": "2021-03-04T00:29:35.140431",
     "status": "completed"
    },
    "tags": []
   },
   "source": [
    "**Deuxieme essai**\n",
    "* Utilisons 1000 cycles, les resultats de chaque cycle seront ajouté\n",
    "* avec un multiplicateur de 0.05"
   ]
  },
  {
   "cell_type": "code",
   "execution_count": 5,
   "metadata": {
    "execution": {
     "iopub.execute_input": "2021-03-04T00:29:35.176235Z",
     "iopub.status.busy": "2021-03-04T00:29:35.175440Z",
     "iopub.status.idle": "2021-03-04T00:29:41.239628Z",
     "shell.execute_reply": "2021-03-04T00:29:41.240315Z"
    },
    "papermill": {
     "duration": 6.079053,
     "end_time": "2021-03-04T00:29:41.240611",
     "exception": false,
     "start_time": "2021-03-04T00:29:35.161558",
     "status": "completed"
    },
    "tags": []
   },
   "outputs": [
    {
     "name": "stdout",
     "output_type": "stream",
     "text": [
      "Mean Absolute Error: 16688.691513270547\n"
     ]
    }
   ],
   "source": [
    "my_model_2 = XGBRegressor(n_estimators=1000, learning_rate=0.05)\n",
    "my_model_2.fit(X_train, y_train)\n",
    "\n",
    "# estimations\n",
    "predictions_2 = my_model_2.predict(X_valid)\n",
    "\n",
    "# MAE\n",
    "mae_2 = mean_absolute_error(predictions_2, y_valid)\n",
    "\n",
    "print(\"Mean Absolute Error:\" , mae_2)"
   ]
  },
  {
   "cell_type": "markdown",
   "metadata": {
    "papermill": {
     "duration": 0.010948,
     "end_time": "2021-03-04T00:29:41.265032",
     "exception": false,
     "start_time": "2021-03-04T00:29:41.254084",
     "status": "completed"
    },
    "tags": []
   },
   "source": [
    "C'est effectivement mieux"
   ]
  },
  {
   "cell_type": "markdown",
   "metadata": {
    "papermill": {
     "duration": 0.010778,
     "end_time": "2021-03-04T00:29:41.286960",
     "exception": false,
     "start_time": "2021-03-04T00:29:41.276182",
     "status": "completed"
    },
    "tags": []
   },
   "source": [
    "**Troiseme essai**\n",
    "* essayons avec qu'une cycle"
   ]
  },
  {
   "cell_type": "code",
   "execution_count": 6,
   "metadata": {
    "execution": {
     "iopub.execute_input": "2021-03-04T00:29:41.324692Z",
     "iopub.status.busy": "2021-03-04T00:29:41.323827Z",
     "iopub.status.idle": "2021-03-04T00:29:41.360513Z",
     "shell.execute_reply": "2021-03-04T00:29:41.361162Z"
    },
    "papermill": {
     "duration": 0.061622,
     "end_time": "2021-03-04T00:29:41.361369",
     "exception": false,
     "start_time": "2021-03-04T00:29:41.299747",
     "status": "completed"
    },
    "tags": []
   },
   "outputs": [
    {
     "name": "stdout",
     "output_type": "stream",
     "text": [
      "Mean Absolute Error: 127895.0828807256\n"
     ]
    }
   ],
   "source": [
    "# defini le modele\n",
    "my_model_3 = XGBRegressor(n_estimators=1)\n",
    "#\n",
    "\n",
    "# adapte le modele\n",
    "my_model_3.fit(X_train, y_train)\n",
    "\n",
    "predictions_3 = my_model_3.predict(X_valid)\n",
    "\n",
    "# calcul MAE\n",
    "mae_3 = mean_absolute_error(predictions_3, y_valid)\n",
    "\n",
    "print(\"Mean Absolute Error:\" , mae_3)\n"
   ]
  },
  {
   "cell_type": "markdown",
   "metadata": {
    "papermill": {
     "duration": 0.012312,
     "end_time": "2021-03-04T00:29:41.387330",
     "exception": false,
     "start_time": "2021-03-04T00:29:41.375018",
     "status": "completed"
    },
    "tags": []
   },
   "source": [
    "* sans surprise ça marche pas tres bien"
   ]
  },
  {
   "cell_type": "markdown",
   "metadata": {
    "papermill": {
     "duration": 0.011209,
     "end_time": "2021-03-04T00:29:41.410484",
     "exception": false,
     "start_time": "2021-03-04T00:29:41.399275",
     "status": "completed"
    },
    "tags": []
   },
   "source": [
    "Notre meilleur modele est donc le deuxieme "
   ]
  },
  {
   "cell_type": "code",
   "execution_count": 7,
   "metadata": {
    "execution": {
     "iopub.execute_input": "2021-03-04T00:29:41.444718Z",
     "iopub.status.busy": "2021-03-04T00:29:41.443810Z",
     "iopub.status.idle": "2021-03-04T00:29:41.473537Z",
     "shell.execute_reply": "2021-03-04T00:29:41.474201Z"
    },
    "papermill": {
     "duration": 0.052377,
     "end_time": "2021-03-04T00:29:41.474422",
     "exception": false,
     "start_time": "2021-03-04T00:29:41.422045",
     "status": "completed"
    },
    "tags": []
   },
   "outputs": [],
   "source": [
    "# on fait la prediction sur les données test\n",
    "preds_test = my_model_2.predict(X_test)"
   ]
  },
  {
   "cell_type": "code",
   "execution_count": 8,
   "metadata": {
    "execution": {
     "iopub.execute_input": "2021-03-04T00:29:41.507108Z",
     "iopub.status.busy": "2021-03-04T00:29:41.506394Z",
     "iopub.status.idle": "2021-03-04T00:29:41.519684Z",
     "shell.execute_reply": "2021-03-04T00:29:41.520216Z"
    },
    "papermill": {
     "duration": 0.032458,
     "end_time": "2021-03-04T00:29:41.520422",
     "exception": false,
     "start_time": "2021-03-04T00:29:41.487964",
     "status": "completed"
    },
    "tags": []
   },
   "outputs": [
    {
     "name": "stdout",
     "output_type": "stream",
     "text": [
      "terminé\n"
     ]
    }
   ],
   "source": [
    "# on stocke dans un fichier csv\n",
    "output = pd.DataFrame({'Id': X_test.index,\n",
    "                       'SalePrice': preds_test})\n",
    "output.to_csv('submission.csv', index=False)\n",
    "print(\"terminé\")"
   ]
  }
 ],
 "metadata": {
  "kernelspec": {
   "display_name": "Python 3",
   "language": "python",
   "name": "python3"
  },
  "language_info": {
   "codemirror_mode": {
    "name": "ipython",
    "version": 3
   },
   "file_extension": ".py",
   "mimetype": "text/x-python",
   "name": "python",
   "nbconvert_exporter": "python",
   "pygments_lexer": "ipython3",
   "version": "3.7.9"
  },
  "papermill": {
   "default_parameters": {},
   "duration": 16.989717,
   "end_time": "2021-03-04T00:29:42.244058",
   "environment_variables": {},
   "exception": null,
   "input_path": "__notebook__.ipynb",
   "output_path": "__notebook__.ipynb",
   "parameters": {},
   "start_time": "2021-03-04T00:29:25.254341",
   "version": "2.2.2"
  }
 },
 "nbformat": 4,
 "nbformat_minor": 4
}
