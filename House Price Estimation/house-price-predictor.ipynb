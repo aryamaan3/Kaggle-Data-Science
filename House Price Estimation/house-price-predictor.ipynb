{
 "cells": [
  {
   "cell_type": "code",
   "execution_count": 1,
   "metadata": {
    "execution": {
     "iopub.execute_input": "2021-03-04T00:17:42.872356Z",
     "iopub.status.busy": "2021-03-04T00:17:42.868345Z",
     "iopub.status.idle": "2021-03-04T00:17:44.975650Z",
     "shell.execute_reply": "2021-03-04T00:17:44.976193Z"
    },
    "papermill": {
     "duration": 2.136134,
     "end_time": "2021-03-04T00:17:44.976530",
     "exception": false,
     "start_time": "2021-03-04T00:17:42.840396",
     "status": "completed"
    },
    "tags": []
   },
   "outputs": [],
   "source": [
    "import pandas as pd\n",
    "from sklearn.model_selection import train_test_split\n",
    "\n",
    "# lit le fichier\n",
    "X = pd.read_csv('../input/train.csv', index_col='Id')\n",
    "X_test_full = pd.read_csv('../input/test.csv', index_col='Id')\n",
    "\n",
    "# Data Cleaning\n",
    "X.dropna(axis=0, subset=['SalePrice'], inplace=True)\n",
    "y = X.SalePrice              \n",
    "X.drop(['SalePrice'], axis=1, inplace=True)\n",
    "\n",
    "# on separe les données validation et test\n",
    "X_train_full, X_valid_full, y_train, y_valid = train_test_split(X, y, train_size=0.8, test_size=0.2,\n",
    "                                                                random_state=0)\n",
    "\n",
    "#colonnes ayant une cardinalité faible pour la simplicité\n",
    "low_cardinality_cols = [cname for cname in X_train_full.columns if X_train_full[cname].nunique() < 10 and \n",
    "                        X_train_full[cname].dtype == \"object\"]\n",
    "\n",
    "# colonnes d'entiers\n",
    "numeric_cols = [cname for cname in X_train_full.columns if X_train_full[cname].dtype in ['int64', 'float64']]\n",
    "\n",
    "# on garde seulement ces colonnes\n",
    "my_cols = low_cardinality_cols + numeric_cols\n",
    "X_train = X_train_full[my_cols].copy()\n",
    "X_valid = X_valid_full[my_cols].copy()\n",
    "X_test = X_test_full[my_cols].copy()\n",
    "\n",
    "# on utilise one hot encode\n",
    "X_train = pd.get_dummies(X_train)\n",
    "X_valid = pd.get_dummies(X_valid)\n",
    "X_test = pd.get_dummies(X_test)\n",
    "X_train, X_valid = X_train.align(X_valid, join='left', axis=1)\n",
    "X_train, X_test = X_train.align(X_test, join='left', axis=1)"
   ]
  },
  {
   "cell_type": "markdown",
   "metadata": {
    "papermill": {
     "duration": 0.014904,
     "end_time": "2021-03-04T00:17:45.006984",
     "exception": false,
     "start_time": "2021-03-04T00:17:44.992080",
     "status": "completed"
    },
    "tags": []
   },
   "source": [
    "Essayons **trois** differents maniere de booster le modele "
   ]
  },
  {
   "cell_type": "markdown",
   "metadata": {
    "papermill": {
     "duration": 0.01413,
     "end_time": "2021-03-04T00:17:45.035755",
     "exception": false,
     "start_time": "2021-03-04T00:17:45.021625",
     "status": "completed"
    },
    "tags": []
   },
   "source": [
    "**Premier essai**\n",
    "* Utilisons xgboost sans regler des parametres"
   ]
  },
  {
   "cell_type": "code",
   "execution_count": 2,
   "metadata": {
    "execution": {
     "iopub.execute_input": "2021-03-04T00:17:45.074777Z",
     "iopub.status.busy": "2021-03-04T00:17:45.074005Z",
     "iopub.status.idle": "2021-03-04T00:17:46.397438Z",
     "shell.execute_reply": "2021-03-04T00:17:46.396583Z"
    },
    "papermill": {
     "duration": 1.345808,
     "end_time": "2021-03-04T00:17:46.397593",
     "exception": false,
     "start_time": "2021-03-04T00:17:45.051785",
     "status": "completed"
    },
    "tags": []
   },
   "outputs": [
    {
     "data": {
      "text/plain": [
       "XGBRegressor(base_score=0.5, booster='gbtree', colsample_bylevel=1,\n",
       "             colsample_bynode=1, colsample_bytree=1, gamma=0, gpu_id=-1,\n",
       "             importance_type='gain', interaction_constraints='',\n",
       "             learning_rate=0.300000012, max_delta_step=0, max_depth=6,\n",
       "             min_child_weight=1, missing=nan, monotone_constraints='()',\n",
       "             n_estimators=100, n_jobs=4, num_parallel_tree=1, random_state=0,\n",
       "             reg_alpha=0, reg_lambda=1, scale_pos_weight=1, subsample=1,\n",
       "             tree_method='exact', validate_parameters=1, verbosity=None)"
      ]
     },
     "execution_count": 2,
     "metadata": {},
     "output_type": "execute_result"
    }
   ],
   "source": [
    "from xgboost import XGBRegressor\n",
    "my_model_1 = XGBRegressor()\n",
    "my_model_1.fit(X_train, y_train)"
   ]
  },
  {
   "cell_type": "code",
   "execution_count": 3,
   "metadata": {
    "execution": {
     "iopub.execute_input": "2021-03-04T00:17:46.436108Z",
     "iopub.status.busy": "2021-03-04T00:17:46.434896Z",
     "iopub.status.idle": "2021-03-04T00:17:46.445540Z",
     "shell.execute_reply": "2021-03-04T00:17:46.446130Z"
    },
    "papermill": {
     "duration": 0.03625,
     "end_time": "2021-03-04T00:17:46.446359",
     "exception": false,
     "start_time": "2021-03-04T00:17:46.410109",
     "status": "completed"
    },
    "tags": []
   },
   "outputs": [],
   "source": [
    "from sklearn.metrics import mean_absolute_error\n",
    "predictions_1 = my_model_1.predict(X_valid)"
   ]
  },
  {
   "cell_type": "code",
   "execution_count": 4,
   "metadata": {
    "execution": {
     "iopub.execute_input": "2021-03-04T00:17:46.480619Z",
     "iopub.status.busy": "2021-03-04T00:17:46.478171Z",
     "iopub.status.idle": "2021-03-04T00:17:46.485574Z",
     "shell.execute_reply": "2021-03-04T00:17:46.489771Z"
    },
    "papermill": {
     "duration": 0.031709,
     "end_time": "2021-03-04T00:17:46.490396",
     "exception": false,
     "start_time": "2021-03-04T00:17:46.458687",
     "status": "completed"
    },
    "tags": []
   },
   "outputs": [
    {
     "name": "stdout",
     "output_type": "stream",
     "text": [
      "Mean Absolute Error: 17662.736729452055\n"
     ]
    }
   ],
   "source": [
    "mae_1 = mean_absolute_error(predictions_1, y_valid)\n",
    "print(\"Mean Absolute Error:\" , mae_1)"
   ]
  },
  {
   "cell_type": "markdown",
   "metadata": {
    "papermill": {
     "duration": 0.019534,
     "end_time": "2021-03-04T00:17:46.533827",
     "exception": false,
     "start_time": "2021-03-04T00:17:46.514293",
     "status": "completed"
    },
    "tags": []
   },
   "source": [
    "le resultat n'est pas aussi bas que desiré"
   ]
  },
  {
   "cell_type": "markdown",
   "metadata": {
    "papermill": {
     "duration": 0.018887,
     "end_time": "2021-03-04T00:17:46.575433",
     "exception": false,
     "start_time": "2021-03-04T00:17:46.556546",
     "status": "completed"
    },
    "tags": []
   },
   "source": [
    "**Deuxieme essai**\n",
    "* Utilisons 1000 cycles, les resultats de chaque cycle seront ajouté\n",
    "* avec un multiplicateur de 0.05"
   ]
  },
  {
   "cell_type": "code",
   "execution_count": 5,
   "metadata": {
    "execution": {
     "iopub.execute_input": "2021-03-04T00:17:46.616375Z",
     "iopub.status.busy": "2021-03-04T00:17:46.615476Z",
     "iopub.status.idle": "2021-03-04T00:17:54.212615Z",
     "shell.execute_reply": "2021-03-04T00:17:54.214212Z"
    },
    "papermill": {
     "duration": 7.621707,
     "end_time": "2021-03-04T00:17:54.214498",
     "exception": false,
     "start_time": "2021-03-04T00:17:46.592791",
     "status": "completed"
    },
    "tags": []
   },
   "outputs": [
    {
     "name": "stdout",
     "output_type": "stream",
     "text": [
      "Mean Absolute Error: 16688.691513270547\n"
     ]
    }
   ],
   "source": [
    "my_model_2 = XGBRegressor(n_estimators=1000, learning_rate=0.05)\n",
    "my_model_2.fit(X_train, y_train)\n",
    "\n",
    "# estimations\n",
    "predictions_2 = my_model_2.predict(X_valid)\n",
    "\n",
    "# MAE\n",
    "mae_2 = mean_absolute_error(predictions_2, y_valid)\n",
    "\n",
    "print(\"Mean Absolute Error:\" , mae_2)"
   ]
  },
  {
   "cell_type": "markdown",
   "metadata": {
    "papermill": {
     "duration": 0.019264,
     "end_time": "2021-03-04T00:17:54.253638",
     "exception": false,
     "start_time": "2021-03-04T00:17:54.234374",
     "status": "completed"
    },
    "tags": []
   },
   "source": [
    "un peu mieux mais toujours pas aussi bas que desiré**Premier essai**"
   ]
  },
  {
   "cell_type": "markdown",
   "metadata": {
    "papermill": {
     "duration": 0.019637,
     "end_time": "2021-03-04T00:17:54.293499",
     "exception": false,
     "start_time": "2021-03-04T00:17:54.273862",
     "status": "completed"
    },
    "tags": []
   },
   "source": [
    "**Troiseme essai**\n",
    "* essayons avec qu'une cycle"
   ]
  },
  {
   "cell_type": "code",
   "execution_count": 6,
   "metadata": {
    "execution": {
     "iopub.execute_input": "2021-03-04T00:17:54.348870Z",
     "iopub.status.busy": "2021-03-04T00:17:54.347158Z",
     "iopub.status.idle": "2021-03-04T00:17:54.393013Z",
     "shell.execute_reply": "2021-03-04T00:17:54.393815Z"
    },
    "papermill": {
     "duration": 0.081353,
     "end_time": "2021-03-04T00:17:54.394070",
     "exception": false,
     "start_time": "2021-03-04T00:17:54.312717",
     "status": "completed"
    },
    "tags": []
   },
   "outputs": [
    {
     "name": "stdout",
     "output_type": "stream",
     "text": [
      "Mean Absolute Error: 127895.0828807256\n"
     ]
    }
   ],
   "source": [
    "# defini le modele\n",
    "my_model_3 = XGBRegressor(n_estimators=1)\n",
    "#\n",
    "\n",
    "# adapte le modele\n",
    "my_model_3.fit(X_train, y_train)\n",
    "\n",
    "predictions_3 = my_model_3.predict(X_valid)\n",
    "\n",
    "# calcul MAE\n",
    "mae_3 = mean_absolute_error(predictions_3, y_valid)\n",
    "\n",
    "print(\"Mean Absolute Error:\" , mae_3)\n"
   ]
  },
  {
   "cell_type": "markdown",
   "metadata": {
    "papermill": {
     "duration": 0.022411,
     "end_time": "2021-03-04T00:17:54.435902",
     "exception": false,
     "start_time": "2021-03-04T00:17:54.413491",
     "status": "completed"
    },
    "tags": []
   },
   "source": [
    "* étonnament ça marche beaucoup mieux\n",
    "* ceci est surement dû au fait que le modele fait du surappretissage quand il y a trop de cycles"
   ]
  },
  {
   "cell_type": "code",
   "execution_count": 7,
   "metadata": {
    "execution": {
     "iopub.execute_input": "2021-03-04T00:17:54.483682Z",
     "iopub.status.busy": "2021-03-04T00:17:54.482659Z",
     "iopub.status.idle": "2021-03-04T00:17:54.499814Z",
     "shell.execute_reply": "2021-03-04T00:17:54.500791Z"
    },
    "papermill": {
     "duration": 0.047633,
     "end_time": "2021-03-04T00:17:54.501078",
     "exception": false,
     "start_time": "2021-03-04T00:17:54.453445",
     "status": "completed"
    },
    "tags": []
   },
   "outputs": [],
   "source": [
    "# on fait la prediction sur les données test\n",
    "preds_test = my_model_3.predict(X_test)"
   ]
  },
  {
   "cell_type": "code",
   "execution_count": 8,
   "metadata": {
    "execution": {
     "iopub.execute_input": "2021-03-04T00:17:54.551800Z",
     "iopub.status.busy": "2021-03-04T00:17:54.551123Z",
     "iopub.status.idle": "2021-03-04T00:17:54.572564Z",
     "shell.execute_reply": "2021-03-04T00:17:54.570850Z"
    },
    "papermill": {
     "duration": 0.049853,
     "end_time": "2021-03-04T00:17:54.572796",
     "exception": false,
     "start_time": "2021-03-04T00:17:54.522943",
     "status": "completed"
    },
    "tags": []
   },
   "outputs": [
    {
     "name": "stdout",
     "output_type": "stream",
     "text": [
      "terminé\n"
     ]
    }
   ],
   "source": [
    "# on stocke dans un fichier csv\n",
    "output = pd.DataFrame({'Id': X_test.index,\n",
    "                       'SalePrice': preds_test})\n",
    "output.to_csv('submission.csv', index=False)\n",
    "print(\"terminé\")"
   ]
  }
 ],
 "metadata": {
  "kernelspec": {
   "display_name": "Python 3",
   "language": "python",
   "name": "python3"
  },
  "language_info": {
   "codemirror_mode": {
    "name": "ipython",
    "version": 3
   },
   "file_extension": ".py",
   "mimetype": "text/x-python",
   "name": "python",
   "nbconvert_exporter": "python",
   "pygments_lexer": "ipython3",
   "version": "3.7.9"
  },
  "papermill": {
   "default_parameters": {},
   "duration": 22.36684,
   "end_time": "2021-03-04T00:17:55.404674",
   "environment_variables": {},
   "exception": null,
   "input_path": "__notebook__.ipynb",
   "output_path": "__notebook__.ipynb",
   "parameters": {},
   "start_time": "2021-03-04T00:17:33.037834",
   "version": "2.2.2"
  }
 },
 "nbformat": 4,
 "nbformat_minor": 4
}
